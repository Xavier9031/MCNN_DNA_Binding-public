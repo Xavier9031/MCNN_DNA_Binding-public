{
 "cells": [
  {
   "cell_type": "markdown",
   "id": "271c45cf-e40c-417c-a83e-03b375add143",
   "metadata": {},
   "source": [
    "# Dependency"
   ]
  },
  {
   "cell_type": "code",
   "execution_count": 1,
   "id": "8bbd76d2-6c8b-4901-896e-85c3a298082a",
   "metadata": {},
   "outputs": [],
   "source": [
    "import h5py\n",
    "import os\n",
    "\n",
    "from tqdm import tqdm\n",
    "from time import gmtime, strftime\n",
    "\n",
    "import numpy as np\n",
    "import math\n",
    "\n",
    "from sklearn.decomposition import IncrementalPCA\n",
    "from sklearn.decomposition import PCA\n",
    "from sklearn import metrics\n",
    "from sklearn.metrics import roc_curve\n",
    "\n",
    "import tensorflow as tf\n",
    "from tensorflow.keras import Model, layers"
   ]
  },
  {
   "cell_type": "markdown",
   "id": "49397bda-2611-4910-8689-7e0bc922de1a",
   "metadata": {},
   "source": [
    "# Prams"
   ]
  },
  {
   "cell_type": "code",
   "execution_count": 2,
   "id": "0851d5dd-21d4-4182-8fa5-2027de0091de",
   "metadata": {},
   "outputs": [],
   "source": [
    "NUM_DEPENDENT = 8\n",
    "\n",
    "NUM_FILTER = 256\n",
    "NUM_HIDDEN = 1000\n",
    "BATCH_SIZE  = 1024\n",
    "WINDOW_SIZES = [2,4,8]\n",
    "\n",
    "NUM_CLASSES = 2\n",
    "CLASS_NAMES = ['Negative','Positive']\n",
    "MAXSEQ = NUM_DEPENDENT*2+1\n",
    "NUM_FEATURE = 1024\n",
    "EPOCHS      = 20"
   ]
  },
  {
   "cell_type": "markdown",
   "id": "e3a794a7-9c7d-4331-8080-a74e2128e4c1",
   "metadata": {},
   "source": [
    "# File path"
   ]
  },
  {
   "cell_type": "code",
   "execution_count": 3,
   "id": "0f1c821c-a5c4-4fb8-b97e-fdb25f352cad",
   "metadata": {},
   "outputs": [],
   "source": [
    "\n",
    "path_x_train = f\"/htchang/DPCR/DataSet/Distance/ProtTrans/Train\"\n",
    "path_y_train = f\"/htchang/DPCR/Data/FASTA/DNA_Train_573/label\"\n",
    "\n",
    "path_x_test = '/htchang/DPCR/DataSet/Distance/ProtTrans/Test129'\n",
    "path_y_test = '/htchang/DPCR/Data/FASTA/DNA_Test_129/label'\n"
   ]
  },
  {
   "cell_type": "markdown",
   "id": "c509be09-f6b8-4bc1-8015-97d7de457ff0",
   "metadata": {
    "tags": []
   },
   "source": [
    "# Time_log"
   ]
  },
  {
   "cell_type": "code",
   "execution_count": 4,
   "id": "1d68ed81-93c3-45ac-83e8-db22fde90d88",
   "metadata": {},
   "outputs": [],
   "source": [
    "def time_log(message):\n",
    "    print(message,\" : \",strftime(\"%Y-%m-%d %H:%M:%S\", gmtime()))"
   ]
  },
  {
   "cell_type": "code",
   "execution_count": 5,
   "id": "5aed5e7b-b257-4c8f-977c-762134475133",
   "metadata": {},
   "outputs": [],
   "source": [
    "def MCNN_data_load(x_folder, y_folder):\n",
    "    x_train = []\n",
    "    y_train = []\n",
    "\n",
    "    x_files = [file for file in os.listdir(x_folder) if file.endswith('.set.npy')]\n",
    "    \n",
    "    # Iterate through x_folder with tqdm\n",
    "    for file in tqdm(x_files, desc=\"Loading data\", unit=\"file\"):\n",
    "        x_path = os.path.join(x_folder, file)\n",
    "        x_data = np.load(x_path)\n",
    "        x_train.append(x_data)\n",
    "\n",
    "        # Get the corresponding y file\n",
    "        y_file = file[:-8] + '.label'\n",
    "        y_path = os.path.join(y_folder, y_file)\n",
    "\n",
    "        with open(y_path, 'r') as y_f:\n",
    "            lines = y_f.readlines()\n",
    "            y_data = np.array([int(x) for x in lines[1].strip()])\n",
    "            y_train.append(y_data)\n",
    "\n",
    "    # Concatenate all the data\n",
    "    x_train = np.concatenate(x_train, axis=0)\n",
    "    y_train = np.concatenate(y_train, axis=0)\n",
    "\n",
    "    # Add new dimensions to x_train and y_train\n",
    "    x_train = np.expand_dims(x_train, axis=1)\n",
    "    y_train = np.expand_dims(y_train, axis=1)\n",
    "    y_train = tf.keras.utils.to_categorical(y_train,NUM_CLASSES)\n",
    "    \n",
    "    return x_train, y_train"
   ]
  },
  {
   "cell_type": "markdown",
   "id": "78ad8130-4a7e-45ae-b873-d21cf32fd367",
   "metadata": {},
   "source": [
    "# MCNN"
   ]
  },
  {
   "cell_type": "code",
   "execution_count": 6,
   "id": "830c0e76-2144-4ea4-a3d3-c66e0c563930",
   "metadata": {},
   "outputs": [],
   "source": [
    "class DeepScan(Model):\n",
    "\n",
    "\tdef __init__(self,\n",
    "\t             input_shape=(1, MAXSEQ, NUM_FEATURE),\n",
    "\t             window_sizes=[1024],\n",
    "\t             num_filters=256,\n",
    "\t             num_hidden=1000):\n",
    "\t\tsuper(DeepScan, self).__init__()\n",
    "\t\t# Add input layer\n",
    "\t\tself.input_layer = tf.keras.Input(input_shape)\n",
    "\t\tself.window_sizes = window_sizes\n",
    "\t\tself.conv2d = []\n",
    "\t\tself.maxpool = []\n",
    "\t\tself.flatten = []\n",
    "\t\tfor window_size in self.window_sizes:\n",
    "\t\t\tself.conv2d.append(\n",
    "\t\t\t layers.Conv2D(filters=num_filters,\n",
    "\t\t\t               kernel_size=(1, window_size),\n",
    "\t\t\t               activation=tf.nn.relu,\n",
    "\t\t\t               padding='valid',\n",
    "\t\t\t               bias_initializer=tf.constant_initializer(0.1),\n",
    "\t\t\t               kernel_initializer=tf.keras.initializers.GlorotUniform()))\n",
    "\t\t\tself.maxpool.append(\n",
    "\t\t\t layers.MaxPooling2D(pool_size=(1, MAXSEQ - window_size + 1),\n",
    "\t\t\t                     strides=(1, MAXSEQ),\n",
    "\t\t\t                     padding='valid'))\n",
    "\t\t\tself.flatten.append(layers.Flatten())\n",
    "\t\tself.dropout = layers.Dropout(rate=0.7)\n",
    "\t\tself.fc1 = layers.Dense(\n",
    "\t\t num_hidden,\n",
    "\t\t activation=tf.nn.relu,\n",
    "\t\t bias_initializer=tf.constant_initializer(0.1),\n",
    "\t\t kernel_initializer=tf.keras.initializers.GlorotUniform())\n",
    "\t\tself.fc2 = layers.Dense(NUM_CLASSES,\n",
    "\t\t                        activation='softmax',\n",
    "\t\t                        kernel_regularizer=tf.keras.regularizers.l2(1e-3))\n",
    "\n",
    "\t\t# Get output layer with `call` method\n",
    "\t\tself.out = self.call(self.input_layer)\n",
    "\n",
    "\tdef call(self, x, training=False):\n",
    "\t\t_x = []\n",
    "\t\tfor i in range(len(self.window_sizes)):\n",
    "\t\t\tx_conv = self.conv2d[i](x)\n",
    "\t\t\tx_maxp = self.maxpool[i](x_conv)\n",
    "\t\t\tx_flat = self.flatten[i](x_maxp)\n",
    "\t\t\t_x.append(x_flat)\n",
    "\n",
    "\t\tx = tf.concat(_x, 1)\n",
    "\t\tx = self.dropout(x, training=training)\n",
    "\t\tx = self.fc1(x)\n",
    "\t\tx = self.fc2(x)  #Best Threshold\n",
    "\t\treturn x\n",
    "\n",
    "\n",
    "def val_binary(epoch, logs):\n",
    "\n",
    "\tpred = model.predict(x_test)\n",
    "\n",
    "\tfpr, tpr, thresholds = roc_curve(y_test[:, 1], pred[:, 1])\n",
    "\t# calculate the g-mean for each threshold\n",
    "\tgmeans = np.sqrt(tpr * (1 - fpr))\n",
    "\t# locate the index of the largest g-mean\n",
    "\tix = np.argmax(gmeans)\n",
    "\tprint(f'Best Threshold={thresholds[ix]}, G-Mean={gmeans[ix]}')\n",
    "\tthreshold = thresholds[ix]\n",
    "\n",
    "\ty_pred = (pred[:, 1] >= threshold).astype(int)\n",
    "\n",
    "\tfout = open(f'{LOG_DIR}/training.csv', 'a')\n",
    "\n",
    "\tTN, FP, FN, TP = metrics.confusion_matrix(y_test[:, 1], y_pred).ravel()\n",
    "\n",
    "\tSens = TP / (TP + FN) if TP + FN > 0 else 0.0\n",
    "\tSpec = TN / (FP + TN) if FP + TN > 0 else 0.0\n",
    "\tAcc = (TP + TN) / (TP + FP + TN + FN)\n",
    "\tMCC = (TP * TN - FP * FN) / math.sqrt(\n",
    "\t (TP + FP) * (TP + FN) * (TN + FP) *\n",
    "\t (TN + FN)) if TP + FP > 0 and FP + TN > 0 and TP + FN and TN + FN else 0.0\n",
    "\tF1 = 2 * TP / (2 * TP + FP + FN)\n",
    "\tprint(\n",
    "\t f'{epoch + 1},TP={TP}, FP={FP}, TN={TN}, FN={FN}, Sens={Sens:.4f}, Spec={Spec:.4f}, Acc={Acc:.4f}, MCC={MCC:.4f}\\n'\n",
    "\t)\n",
    "\tfout.write(\n",
    "\t f'{epoch + 1},{TP},{FP},{TN},{FN},{Sens:.4f},{Spec:.4f},{Acc:.4f},{MCC:.4f}\\n'\n",
    "\t)\n",
    "\tfout.close()\n"
   ]
  },
  {
   "cell_type": "markdown",
   "id": "56bd6e30-ad98-4e37-a76e-92cd7a39cfc6",
   "metadata": {},
   "source": [
    "# Main"
   ]
  },
  {
   "cell_type": "code",
   "execution_count": 7,
   "id": "767da2b2-407b-45ab-8840-8056249aa086",
   "metadata": {},
   "outputs": [
    {
     "name": "stderr",
     "output_type": "stream",
     "text": [
      "Loading data: 100%|██████████| 569/569 [02:16<00:00,  4.18file/s]\n"
     ]
    }
   ],
   "source": [
    "# Example usage:\n",
    "x_train, y_train = MCNN_data_load(path_x_train, path_y_train)\n"
   ]
  },
  {
   "cell_type": "code",
   "execution_count": 8,
   "id": "e5462d59-eee7-489f-bb42-919f08501863",
   "metadata": {},
   "outputs": [
    {
     "name": "stderr",
     "output_type": "stream",
     "text": [
      "Loading data: 100%|██████████| 129/129 [00:33<00:00,  3.86file/s]\n"
     ]
    }
   ],
   "source": [
    "x_test, y_test = MCNN_data_load(path_x_test, path_y_test)"
   ]
  },
  {
   "cell_type": "code",
   "execution_count": 9,
   "id": "569f495f-a64c-40e5-bbf2-fd8874023924",
   "metadata": {},
   "outputs": [
    {
     "name": "stdout",
     "output_type": "stream",
     "text": [
      "(157831, 1, 17, 1024)\n",
      "(157831, 2)\n"
     ]
    }
   ],
   "source": [
    "print(x_train.shape)\n",
    "print(y_train.shape)"
   ]
  },
  {
   "cell_type": "code",
   "execution_count": 10,
   "id": "bc87496b-4783-4511-a16e-adef0baaf1d2",
   "metadata": {},
   "outputs": [
    {
     "name": "stdout",
     "output_type": "stream",
     "text": [
      "(37515, 1, 17, 1024)\n",
      "(37515, 2)\n"
     ]
    }
   ],
   "source": [
    "print(x_test.shape)\n",
    "print(y_test.shape)"
   ]
  },
  {
   "cell_type": "code",
   "execution_count": 11,
   "id": "3129e3f8-af89-4aba-81f3-cf3eed73662a",
   "metadata": {},
   "outputs": [
    {
     "name": "stdout",
     "output_type": "stream",
     "text": [
      "Start Model Train  :  2023-04-23 17:07:09\n",
      "Model: \"deep_scan\"\n",
      "_________________________________________________________________\n",
      " Layer (type)                Output Shape              Param #   \n",
      "=================================================================\n",
      " conv2d (Conv2D)             (None, 1, 16, 256)        524544    \n",
      "                                                                 \n",
      " conv2d_1 (Conv2D)           (None, 1, 14, 256)        1048832   \n",
      "                                                                 \n",
      " conv2d_2 (Conv2D)           (None, 1, 10, 256)        2097408   \n",
      "                                                                 \n",
      " max_pooling2d (MaxPooling2D  (None, 1, 1, 256)        0         \n",
      " )                                                               \n",
      "                                                                 \n",
      " max_pooling2d_1 (MaxPooling  (None, 1, 1, 256)        0         \n",
      " 2D)                                                             \n",
      "                                                                 \n",
      " max_pooling2d_2 (MaxPooling  (None, 1, 1, 256)        0         \n",
      " 2D)                                                             \n",
      "                                                                 \n",
      " flatten (Flatten)           (None, 256)               0         \n",
      "                                                                 \n",
      " flatten_1 (Flatten)         (None, 256)               0         \n",
      "                                                                 \n",
      " flatten_2 (Flatten)         (None, 256)               0         \n",
      "                                                                 \n",
      " dropout (Dropout)           (None, 768)               0         \n",
      "                                                                 \n",
      " dense (Dense)               (None, 1000)              769000    \n",
      "                                                                 \n",
      " dense_1 (Dense)             (None, 2)                 2002      \n",
      "                                                                 \n",
      "=================================================================\n",
      "Total params: 4,441,786\n",
      "Trainable params: 4,441,786\n",
      "Non-trainable params: 0\n",
      "_________________________________________________________________\n",
      "Epoch 1/60\n",
      "155/155 [==============================] - 7s 21ms/step - loss: 0.2743 - accuracy: 0.9102\n",
      "Epoch 2/60\n",
      "155/155 [==============================] - 3s 21ms/step - loss: 0.1885 - accuracy: 0.9233\n",
      "Epoch 3/60\n",
      "155/155 [==============================] - 3s 21ms/step - loss: 0.1655 - accuracy: 0.9325\n",
      "Epoch 4/60\n",
      "155/155 [==============================] - 3s 21ms/step - loss: 0.1389 - accuracy: 0.9444\n",
      "Epoch 5/60\n",
      "155/155 [==============================] - 3s 21ms/step - loss: 0.1149 - accuracy: 0.9546\n",
      "Epoch 6/60\n",
      "155/155 [==============================] - 3s 21ms/step - loss: 0.0951 - accuracy: 0.9627\n",
      "Epoch 7/60\n",
      "155/155 [==============================] - 3s 21ms/step - loss: 0.0802 - accuracy: 0.9694\n",
      "Epoch 8/60\n",
      "155/155 [==============================] - 3s 21ms/step - loss: 0.0676 - accuracy: 0.9744\n",
      "Epoch 9/60\n",
      "155/155 [==============================] - 3s 21ms/step - loss: 0.0585 - accuracy: 0.9782\n",
      "Epoch 10/60\n",
      "155/155 [==============================] - 3s 21ms/step - loss: 0.0539 - accuracy: 0.9802\n",
      "Epoch 11/60\n",
      "155/155 [==============================] - 3s 21ms/step - loss: 0.0488 - accuracy: 0.9825\n",
      "Epoch 12/60\n",
      "155/155 [==============================] - 3s 21ms/step - loss: 0.0433 - accuracy: 0.9841\n",
      "Epoch 13/60\n",
      "155/155 [==============================] - 3s 21ms/step - loss: 0.0409 - accuracy: 0.9852\n",
      "Epoch 14/60\n",
      "155/155 [==============================] - 3s 21ms/step - loss: 0.0383 - accuracy: 0.9863\n",
      "Epoch 15/60\n",
      "155/155 [==============================] - 3s 21ms/step - loss: 0.0353 - accuracy: 0.9873\n",
      "Epoch 16/60\n",
      "155/155 [==============================] - 3s 21ms/step - loss: 0.0332 - accuracy: 0.9880\n",
      "Epoch 17/60\n",
      "155/155 [==============================] - 3s 21ms/step - loss: 0.0313 - accuracy: 0.9888\n",
      "Epoch 18/60\n",
      "155/155 [==============================] - 3s 21ms/step - loss: 0.0287 - accuracy: 0.9898\n",
      "Epoch 19/60\n",
      "155/155 [==============================] - 3s 21ms/step - loss: 0.0297 - accuracy: 0.9896\n",
      "Epoch 20/60\n",
      "155/155 [==============================] - 3s 21ms/step - loss: 0.0271 - accuracy: 0.9900\n",
      "Epoch 21/60\n",
      "155/155 [==============================] - 3s 21ms/step - loss: 0.0261 - accuracy: 0.9909\n",
      "Epoch 22/60\n",
      "155/155 [==============================] - 3s 21ms/step - loss: 0.0254 - accuracy: 0.9909\n",
      "Epoch 23/60\n",
      "155/155 [==============================] - 3s 21ms/step - loss: 0.0255 - accuracy: 0.9911\n",
      "Epoch 24/60\n",
      "155/155 [==============================] - 3s 21ms/step - loss: 0.0220 - accuracy: 0.9923\n",
      "Epoch 25/60\n",
      "155/155 [==============================] - 3s 21ms/step - loss: 0.0219 - accuracy: 0.9922\n",
      "Epoch 26/60\n",
      "155/155 [==============================] - 3s 21ms/step - loss: 0.0228 - accuracy: 0.9921\n",
      "Epoch 27/60\n",
      "155/155 [==============================] - 3s 21ms/step - loss: 0.0211 - accuracy: 0.9927\n",
      "Epoch 28/60\n",
      "155/155 [==============================] - 3s 21ms/step - loss: 0.0211 - accuracy: 0.9925\n",
      "Epoch 29/60\n",
      "155/155 [==============================] - 3s 21ms/step - loss: 0.0196 - accuracy: 0.9931\n",
      "Epoch 30/60\n",
      "155/155 [==============================] - 3s 21ms/step - loss: 0.0208 - accuracy: 0.9927\n",
      "Epoch 31/60\n",
      "155/155 [==============================] - 3s 21ms/step - loss: 0.0192 - accuracy: 0.9933\n",
      "Epoch 32/60\n",
      "155/155 [==============================] - 3s 21ms/step - loss: 0.0192 - accuracy: 0.9932\n",
      "Epoch 33/60\n",
      "155/155 [==============================] - 3s 21ms/step - loss: 0.0193 - accuracy: 0.9931\n",
      "Epoch 34/60\n",
      "155/155 [==============================] - 3s 22ms/step - loss: 0.0188 - accuracy: 0.9933\n",
      "Epoch 35/60\n",
      "155/155 [==============================] - 3s 21ms/step - loss: 0.0188 - accuracy: 0.9935\n",
      "Epoch 36/60\n",
      "155/155 [==============================] - 3s 21ms/step - loss: 0.0184 - accuracy: 0.9934\n",
      "Epoch 37/60\n",
      "155/155 [==============================] - 3s 21ms/step - loss: 0.0171 - accuracy: 0.9941\n",
      "Epoch 38/60\n",
      "155/155 [==============================] - 3s 21ms/step - loss: 0.0164 - accuracy: 0.9943\n",
      "Epoch 39/60\n",
      "155/155 [==============================] - 3s 21ms/step - loss: 0.0169 - accuracy: 0.9940\n",
      "Epoch 40/60\n",
      "155/155 [==============================] - 3s 21ms/step - loss: 0.0170 - accuracy: 0.9940\n",
      "Epoch 41/60\n",
      "155/155 [==============================] - 3s 21ms/step - loss: 0.0156 - accuracy: 0.9945\n",
      "Epoch 42/60\n",
      "155/155 [==============================] - 3s 22ms/step - loss: 0.0158 - accuracy: 0.9943\n",
      "Epoch 43/60\n",
      "155/155 [==============================] - 4s 27ms/step - loss: 0.0152 - accuracy: 0.9946\n",
      "Epoch 44/60\n",
      "155/155 [==============================] - 4s 27ms/step - loss: 0.0162 - accuracy: 0.9945\n",
      "Epoch 45/60\n",
      "155/155 [==============================] - 4s 25ms/step - loss: 0.0150 - accuracy: 0.9948\n",
      "Epoch 46/60\n",
      "155/155 [==============================] - 4s 26ms/step - loss: 0.0146 - accuracy: 0.9947\n",
      "Epoch 47/60\n",
      "155/155 [==============================] - 3s 22ms/step - loss: 0.0145 - accuracy: 0.9949\n",
      "Epoch 48/60\n",
      "155/155 [==============================] - 3s 21ms/step - loss: 0.0149 - accuracy: 0.9947\n",
      "Epoch 49/60\n",
      "155/155 [==============================] - 3s 21ms/step - loss: 0.0142 - accuracy: 0.9951\n",
      "Epoch 50/60\n",
      "155/155 [==============================] - 3s 21ms/step - loss: 0.0141 - accuracy: 0.9951\n",
      "Epoch 51/60\n",
      "155/155 [==============================] - 3s 21ms/step - loss: 0.0136 - accuracy: 0.9952\n",
      "Epoch 52/60\n",
      "155/155 [==============================] - 3s 21ms/step - loss: 0.0132 - accuracy: 0.9955\n",
      "Epoch 53/60\n",
      "155/155 [==============================] - 3s 21ms/step - loss: 0.0133 - accuracy: 0.9952\n",
      "Epoch 54/60\n",
      "155/155 [==============================] - 3s 21ms/step - loss: 0.0130 - accuracy: 0.9954\n",
      "Epoch 55/60\n",
      "155/155 [==============================] - 3s 21ms/step - loss: 0.0143 - accuracy: 0.9952\n",
      "Epoch 56/60\n",
      "155/155 [==============================] - 3s 21ms/step - loss: 0.0132 - accuracy: 0.9955\n",
      "Epoch 57/60\n",
      "155/155 [==============================] - 3s 21ms/step - loss: 0.0134 - accuracy: 0.9954\n",
      "Epoch 58/60\n",
      "155/155 [==============================] - 3s 21ms/step - loss: 0.0121 - accuracy: 0.9957\n",
      "Epoch 59/60\n",
      "155/155 [==============================] - 3s 21ms/step - loss: 0.0128 - accuracy: 0.9957\n",
      "Epoch 60/60\n",
      "155/155 [==============================] - 3s 21ms/step - loss: 0.0130 - accuracy: 0.9956\n",
      "End Model Train  :  2023-04-23 17:10:43\n"
     ]
    }
   ],
   "source": [
    "# Model Train\n",
    "time_log(\"Start Model Train\")\n",
    "model = DeepScan(\n",
    "    num_filters=NUM_FILTER,\n",
    "    num_hidden=NUM_HIDDEN,\n",
    "    window_sizes=WINDOW_SIZES)\n",
    "model.compile(optimizer='adam', loss='categorical_crossentropy', metrics=['accuracy'])\n",
    "model.build(input_shape=x_train.shape)\n",
    "model.summary()\n",
    "\n",
    "model.fit(\n",
    "    x_train,\n",
    "    y_train,\n",
    "    batch_size=BATCH_SIZE,\n",
    "    epochs=60,\n",
    "    shuffle=True,\n",
    ")\n",
    "time_log(\"End Model Train\")"
   ]
  },
  {
   "cell_type": "code",
   "execution_count": 12,
   "id": "07cc5e39-c987-4cac-bb7a-b394c3f91648",
   "metadata": {},
   "outputs": [
    {
     "name": "stdout",
     "output_type": "stream",
     "text": [
      "Start Model Test  :  2023-04-23 17:10:43\n",
      "170/170 [==============================] - 0s 1ms/step\n",
      "Best Threshold=0.00012759980745613575, G-Mean=0.835925082508382\n",
      "TP=399, FP=941, TN=4034, FN=64, Sens=0.8618, Spec=0.8109, Acc=0.8152, MCC=0.4356\n",
      "\n",
      "End Model Test  :  2023-04-23 17:10:44\n"
     ]
    },
    {
     "data": {
      "image/png": "[encoded data removed]",
      "text/plain": [
       "<Figure size 432x288 with 1 Axes>"
      ]
     },
     "metadata": {
      "needs_background": "light"
     },
     "output_type": "display_data"
    }
   ],
   "source": [
    "time_log(\"Start Model Test\")\n",
    "\n",
    "pred_test = model.predict(x_test[0:5438])\n",
    "fpr, tpr, thresholds = roc_curve(y_test[0:5438][:,1], pred_test[:, 1])\n",
    "roc_auc = metrics.auc(fpr, tpr)\n",
    "display = metrics.RocCurveDisplay(fpr=fpr, tpr=tpr, roc_auc=roc_auc, estimator_name='mCNN_MB')\n",
    "display.plot()\n",
    "\n",
    "# calculate the g-mean for each threshold\n",
    "gmeans = np.sqrt(tpr * (1-fpr))\n",
    "# locate the index of the largest g-mean\n",
    "ix = np.argmax(gmeans)\n",
    "print(f'Best Threshold={thresholds[ix]}, G-Mean={gmeans[ix]}')\n",
    "threshold = thresholds[ix]\n",
    "\n",
    "y_pred = (pred_test[:, 1] >= threshold).astype(int)\n",
    "\n",
    "TN, FP, FN, TP =  metrics.confusion_matrix(y_test[0:5438][:,1], y_pred).ravel()\n",
    "\n",
    "Sens = TP/(TP+FN) if TP+FN > 0 else 0.0\n",
    "Spec = TN/(FP+TN) if FP+TN > 0 else 0.0\n",
    "Acc = (TP+TN)/(TP+FP+TN+FN)\n",
    "MCC = (TP*TN-FP*FN)/math.sqrt((TP+FP)*(TP+FN)*(TN+FP)*(TN+FN)) if TP+FP > 0 and FP+TN > 0 and TP+FN and TN+FN else 0.0\n",
    "F1 = 2*TP/(2*TP+FP+FN)\n",
    "print(f'TP={TP}, FP={FP}, TN={TN}, FN={FN}, Sens={Sens:.4f}, Spec={Spec:.4f}, Acc={Acc:.4f}, MCC={MCC:.4f}\\n')\n",
    "\n",
    "time_log(\"End Model Test\")"
   ]
  },
  {
   "cell_type": "code",
   "execution_count": null,
   "id": "079f1278-777b-4c25-9c1e-ddea206be54e",
   "metadata": {},
   "outputs": [],
   "source": []
  }
 ],
 "metadata": {
  "kernelspec": {
   "display_name": "Python 3 (ipykernel)",
   "language": "python",
   "name": "python3"
  },
  "language_info": {
   "codemirror_mode": {
    "name": "ipython",
    "version": 3
   },
   "file_extension": ".py",
   "mimetype": "text/x-python",
   "name": "python",
   "nbconvert_exporter": "python",
   "pygments_lexer": "ipython3",
   "version": "3.10.2"
  }
 },
 "nbformat": 4,
 "nbformat_minor": 5
}
